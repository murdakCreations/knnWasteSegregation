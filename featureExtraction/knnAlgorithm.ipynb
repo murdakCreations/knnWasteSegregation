{
 "cells": [
  {
   "cell_type": "code",
   "execution_count": 1,
   "id": "56c4e4a1",
   "metadata": {},
   "outputs": [],
   "source": [
    "import csv\n",
    "import numpy as np\n",
    "\n",
    "file = open('colorGlossFeatures.csv')\n",
    "csvreader = csv.reader(file)\n",
    "header = []\n",
    "header = next(csvreader)\n",
    "rows = []\n",
    "intDataRows = []\n",
    "\n",
    "\n",
    "for row in csvreader:\n",
    "    #rows.append(row)\n",
    "    for rowData in range(len(row)):\n",
    "        intDataRows.append(int(row[rowData]))\n",
    "    rows.append(intDataRows)\n",
    "    intDataRows = []\n",
    "\n",
    "categories = []\n",
    "dataset = {}\n",
    "features = []\n",
    "allFeatures = []\n",
    "\n",
    "for index in range(len(rows)):\n",
    "    for featuresIndx in range(5):\n",
    "        if featuresIndx == 4:\n",
    "            categories.append(rows[index][featuresIndx])\n",
    "        else:\n",
    "            features.append(rows[index][featuresIndx])\n",
    "    allFeatures += [features]\n",
    "    features = []\n",
    "dataset['category'] = np.array(categories)\n",
    "dataset['features'] = np.array(allFeatures)"
   ]
  },
  {
   "cell_type": "code",
   "execution_count": 2,
   "id": "904ab122",
   "metadata": {},
   "outputs": [],
   "source": [
    "from sklearn.model_selection import train_test_split \n",
    "X_train, X_test, y_train, y_test = train_test_split(    \n",
    "    dataset['features'], dataset['category'], test_size=0.2, train_size = 0.8, random_state=0)"
   ]
  },
  {
   "cell_type": "code",
   "execution_count": 3,
   "id": "3390cab6",
   "metadata": {},
   "outputs": [
    {
     "name": "stdout",
     "output_type": "stream",
     "text": [
      "(1745, 4)\n"
     ]
    }
   ],
   "source": [
    "print(dataset['features'].shape)"
   ]
  },
  {
   "cell_type": "code",
   "execution_count": 4,
   "id": "bc975ed3",
   "metadata": {},
   "outputs": [
    {
     "name": "stdout",
     "output_type": "stream",
     "text": [
      "(1745,)\n"
     ]
    }
   ],
   "source": [
    "print(dataset['category'].shape)"
   ]
  },
  {
   "cell_type": "code",
   "execution_count": 5,
   "id": "3dc86785",
   "metadata": {},
   "outputs": [],
   "source": [
    "from sklearn.neighbors import KNeighborsClassifier \n",
    "knn = KNeighborsClassifier(n_neighbors=1) "
   ]
  },
  {
   "cell_type": "code",
   "execution_count": 6,
   "id": "744f1906",
   "metadata": {},
   "outputs": [
    {
     "data": {
      "text/plain": [
       "KNeighborsClassifier(n_neighbors=1)"
      ]
     },
     "execution_count": 6,
     "metadata": {},
     "output_type": "execute_result"
    }
   ],
   "source": [
    "knn.fit(X_train, y_train)"
   ]
  },
  {
   "cell_type": "code",
   "execution_count": 7,
   "id": "52397bc9",
   "metadata": {},
   "outputs": [],
   "source": [
    "data2 = [[432,255235174,252620,1610]]"
   ]
  },
  {
   "cell_type": "code",
   "execution_count": 8,
   "id": "248a1698",
   "metadata": {},
   "outputs": [
    {
     "name": "stdout",
     "output_type": "stream",
     "text": [
      "Prediction: [1]\n",
      "Predicted category: 0\n"
     ]
    }
   ],
   "source": [
    "prediction = knn.predict(data2) \n",
    "print(\"Prediction: {}\".format(prediction)) \n",
    "print(\"Predicted category: {}\".format(       \n",
    "    categories[prediction.item(0)]))"
   ]
  },
  {
   "cell_type": "code",
   "execution_count": 9,
   "id": "9761ca35",
   "metadata": {},
   "outputs": [
    {
     "name": "stdout",
     "output_type": "stream",
     "text": [
      "Test set predictions:\n",
      " [4 4 1 2 1 0 2 3 1 3 3 0 2 1 4 1 2 4 1 0 3 0 4 4 3 4 1 0 1 3 0 3 1 0 1 3 4\n",
      " 2 1 4 4 3 1 2 1 3 1 1 4 4 0 1 4 2 1 0 2 1 1 4 1 2 1 4 1 2 0 0 4 3 2 2 4 3\n",
      " 4 3 3 2 0 0 3 2 4 1 3 0 4 0 0 3 0 2 0 3 4 1 0 0 3 3 2 4 4 0 2 2 4 0 2 1 2\n",
      " 2 1 1 3 0 0 4 1 2 3 0 3 2 3 2 2 4 3 0 4 4 3 0 3 2 1 3 3 3 0 4 2 3 4 1 3 1\n",
      " 4 3 2 1 0 3 2 0 2 4 1 0 4 4 3 1 4 3 3 1 0 2 2 4 1 2 3 3 0 4 3 1 4 2 3 2 2\n",
      " 0 2 2 3 4 2 3 2 0 2 2 0 2 0 1 1 2 3 4 1 3 4 4 1 3 3 2 4 3 2 2 4 4 4 3 2 0\n",
      " 0 0 0 4 2 0 0 2 0 3 3 2 3 1 1 4 1 0 0 1 1 2 3 1 3 1 2 4 3 2 3 1 4 1 3 4 1\n",
      " 2 4 2 1 0 1 4 0 1 1 4 1 3 0 2 3 3 4 2 2 3 4 1 2 2 0 2 0 1 2 2 1 0 3 0 3 4\n",
      " 4 1 2 2 3 4 1 3 4 2 4 2 3 4 2 2 0 0 4 2 0 1 1 2 3 3 2 2 3 4 4 4 3 4 1 4 1\n",
      " 2 1 3 1 4 3 0 0 3 1 0 0 4 2 1 0]\n"
     ]
    }
   ],
   "source": [
    "y_pred = knn.predict(X_test) \n",
    "print(\"Test set predictions:\\n {}\".format(y_pred))"
   ]
  },
  {
   "cell_type": "code",
   "execution_count": 10,
   "id": "c34acd8e",
   "metadata": {},
   "outputs": [
    {
     "name": "stdout",
     "output_type": "stream",
     "text": [
      "Test set score: 0.78\n"
     ]
    }
   ],
   "source": [
    "print(\"Test set score: {:.2f}\".format(np.mean(y_pred == y_test)))"
   ]
  },
  {
   "cell_type": "code",
   "execution_count": null,
   "id": "bc6cb0ce",
   "metadata": {},
   "outputs": [],
   "source": []
  },
  {
   "cell_type": "code",
   "execution_count": null,
   "id": "fc07a6f0",
   "metadata": {},
   "outputs": [],
   "source": []
  }
 ],
 "metadata": {
  "kernelspec": {
   "display_name": "Python 3 (ipykernel)",
   "language": "python",
   "name": "python3"
  },
  "language_info": {
   "codemirror_mode": {
    "name": "ipython",
    "version": 3
   },
   "file_extension": ".py",
   "mimetype": "text/x-python",
   "name": "python",
   "nbconvert_exporter": "python",
   "pygments_lexer": "ipython3",
   "version": "3.9.7"
  }
 },
 "nbformat": 4,
 "nbformat_minor": 5
}
