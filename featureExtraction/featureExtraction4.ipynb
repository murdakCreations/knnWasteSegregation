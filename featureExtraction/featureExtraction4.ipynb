{
 "cells": [
  {
   "cell_type": "code",
   "execution_count": 1,
   "id": "56c4e4a1",
   "metadata": {},
   "outputs": [],
   "source": [
    "import numpy as np\n",
    "import matplotlib.pyplot as plt\n",
    "import matplotlib.image as mpimg\n",
    "#from scipy.stats import mode\n",
    "\n",
    "trashnet = {}\n",
    "data_category = []\n",
    "data = []\n",
    "file_dir = \"C:\\\\Users\\\\Blobby\\\\Desktop\\\\\"\n",
    "categories = [\"paper\",\"plastic\",  \"glass\", \"metal\", \"cardboard\"]\n",
    "\n",
    "\n",
    "for category in categories:\n",
    "    for i in range(200):\n",
    "        file = file_dir + category + \"\\\\\" + category + str(i+1) +\".jpg\"\n",
    "        image = mpimg.imread(file)\n",
    "        #print(mode(image))\n",
    "        #break\n",
    "        data += [np.reshape(image, (384*512*3))]\n",
    "        data_category += [categories.index(category)];\n",
    "    #break\n",
    "trashnet['data'] = np.array(data);       \n",
    "trashnet['category'] = np.array(data_category)\n",
    "#print(trashnet['data'].shape)"
   ]
  },
  {
   "cell_type": "code",
   "execution_count": 53,
   "id": "904ab122",
   "metadata": {},
   "outputs": [],
   "source": [
    "from sklearn.model_selection import train_test_split \n",
    "X_train, X_test, y_train, y_test = train_test_split(    \n",
    "    trashnet['data'], trashnet['category'], random_state=0)"
   ]
  },
  {
   "cell_type": "code",
   "execution_count": 54,
   "id": "3390cab6",
   "metadata": {},
   "outputs": [
    {
     "name": "stdout",
     "output_type": "stream",
     "text": [
      "(1000, 589824)\n"
     ]
    }
   ],
   "source": [
    "print(trashnet['data'].shape)"
   ]
  },
  {
   "cell_type": "code",
   "execution_count": 55,
   "id": "bc975ed3",
   "metadata": {},
   "outputs": [
    {
     "name": "stdout",
     "output_type": "stream",
     "text": [
      "(1000,)\n"
     ]
    }
   ],
   "source": [
    "print(trashnet['category'].shape)"
   ]
  },
  {
   "cell_type": "code",
   "execution_count": 56,
   "id": "3dc86785",
   "metadata": {},
   "outputs": [],
   "source": [
    "from sklearn.neighbors import KNeighborsClassifier \n",
    "knn = KNeighborsClassifier(n_neighbors=1) "
   ]
  },
  {
   "cell_type": "code",
   "execution_count": 57,
   "id": "744f1906",
   "metadata": {},
   "outputs": [
    {
     "data": {
      "text/plain": [
       "KNeighborsClassifier(n_neighbors=1)"
      ]
     },
     "execution_count": 57,
     "metadata": {},
     "output_type": "execute_result"
    }
   ],
   "source": [
    "knn.fit(X_train, y_train)"
   ]
  },
  {
   "cell_type": "code",
   "execution_count": 58,
   "id": "52397bc9",
   "metadata": {},
   "outputs": [
    {
     "name": "stdout",
     "output_type": "stream",
     "text": [
      "(1, 589824)\n"
     ]
    }
   ],
   "source": [
    "data2 = []\n",
    "image2 = mpimg.imread(\"C:\\\\Users\\\\Blobby\\\\Desktop\\\\plastic\\\\plastic50.jpg\")\n",
    "data2 = np.array([np.reshape(image, (384*512*3))])\n",
    "print(data2.shape)"
   ]
  },
  {
   "cell_type": "code",
   "execution_count": null,
   "id": "248a1698",
   "metadata": {},
   "outputs": [],
   "source": [
    "prediction = knn.predict(data2) \n",
    "print(\"Prediction: {}\".format(prediction)) \n",
    "print(\"Predicted category: {}\".format(       \n",
    "    categories[prediction.item(0)]))"
   ]
  },
  {
   "cell_type": "code",
   "execution_count": 49,
   "id": "9761ca35",
   "metadata": {},
   "outputs": [
    {
     "name": "stdout",
     "output_type": "stream",
     "text": [
      "Test set predictions:\n",
      " [0 1 3 4 4 1 3 4 1 1 1 1 2 2 1 2 1 1 2 0 1 3 1 1 1 4 0 3 4 2 3 1 2 2 1 4 1\n",
      " 4 4 1 3 0 4 1 1 0 2 2 4 1 1 1 4 0 0 0 1 1 0 4 1 1 4 0 3 1 0 2 2 0 1 0 1 1\n",
      " 3 4 2 1 2 1 3 3 4 1 4 2 4 2 2 1 1 4 1 3 1 2 0 2 1 3 0 0 1 4 1 2 1 2 1 1 1\n",
      " 3 1 2 4 1 4 4 3 1 4 0 1 2 4]\n"
     ]
    }
   ],
   "source": [
    "y_pred = knn.predict(X_test) \n",
    "print(\"Test set predictions:\\n {}\".format(y_pred))"
   ]
  },
  {
   "cell_type": "code",
   "execution_count": 50,
   "id": "c34acd8e",
   "metadata": {},
   "outputs": [
    {
     "name": "stdout",
     "output_type": "stream",
     "text": [
      "Test set score: 0.44\n"
     ]
    }
   ],
   "source": [
    "print(\"Test set score: {:.2f}\".format(np.mean(y_pred == y_test)))"
   ]
  },
  {
   "cell_type": "code",
   "execution_count": 51,
   "id": "d1383ebf",
   "metadata": {},
   "outputs": [
    {
     "name": "stdout",
     "output_type": "stream",
     "text": [
      "Test set score: 0.44\n"
     ]
    }
   ],
   "source": [
    "print(\"Test set score: {:.2f}\".format(knn.score(X_test, y_test)))"
   ]
  },
  {
   "cell_type": "code",
   "execution_count": null,
   "id": "bbbac477",
   "metadata": {},
   "outputs": [],
   "source": []
  }
 ],
 "metadata": {
  "kernelspec": {
   "display_name": "Python 3 (ipykernel)",
   "language": "python",
   "name": "python3"
  },
  "language_info": {
   "codemirror_mode": {
    "name": "ipython",
    "version": 3
   },
   "file_extension": ".py",
   "mimetype": "text/x-python",
   "name": "python",
   "nbconvert_exporter": "python",
   "pygments_lexer": "ipython3",
   "version": "3.9.7"
  }
 },
 "nbformat": 4,
 "nbformat_minor": 5
}
