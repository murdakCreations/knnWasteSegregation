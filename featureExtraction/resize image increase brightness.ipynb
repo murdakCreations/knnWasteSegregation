{
 "cells": [
  {
   "cell_type": "code",
   "execution_count": 14,
   "id": "c0d6b821",
   "metadata": {},
   "outputs": [],
   "source": [
    "from PIL import Image, ImageEnhance\n",
    "\n",
    "# read the image\n",
    "img = Image.open(\"C:/Users/Blobby/Desktop/plastic/plastic3.jpg\")\n",
    "\n",
    "# image brightness enhancer\n",
    "enhancer = ImageEnhance.Brightness(img)\n",
    "\n",
    "\"\"\"factor = 1 # gives original image\n",
    "img_output = enhancer.enhance(factor)\n",
    "img_output.save(\"C:/Users/Blobby/Desktop/enhance/plastic\")\n",
    "\n",
    "factor = 0.5 # darkens the image\n",
    "img_output = enhancer.enhance(factor)\n",
    "img_output.save(\"C:/Users/Blobby/Desktop/enhance/plastic\")\"\"\"\n",
    "\n",
    "factor = 1.5 # brightens the image\n",
    "img_output = enhancer.enhance(factor)\n",
    "img_output.save(\"C:/Users/Blobby/Desktop/enhance/plastic/plastic3.jpg\")\n",
    "img = \"\""
   ]
  },
  {
   "cell_type": "code",
   "execution_count": 17,
   "id": "86174358",
   "metadata": {},
   "outputs": [],
   "source": [
    "from PIL import Image, ImageEnhance\n",
    "category = [\"plastic\", \"paper\", \"cardboard\", \"metal\", \"glass\"]\n",
    "\n",
    "def adjustBrightness(catIndx, concatNum):\n",
    "    img1 = Image.open(\"C:/Users/Blobby/Desktop/\"+catIndx+\"/\"+catIndx+str(concatNum)+\".jpg\")\n",
    "    enhancer = ImageEnhance.Brightness(img1)\n",
    "    factor = 1.5 # brightens the image\n",
    "    img_output1 = enhancer.enhance(factor)\n",
    "    img_output1.save(\"C:/Users/Blobby/Desktop/enhance/\"+catIndx+\"/\"+catIndx+str(concatNum)+\".jpg\")\n",
    "        \n",
    "for concatNum in range(1,400):\n",
    "    for catIndx in category:\n",
    "        adjustBrightness(catIndx, concatNum)\n"
   ]
  },
  {
   "cell_type": "code",
   "execution_count": null,
   "id": "75c54a41",
   "metadata": {},
   "outputs": [],
   "source": []
  }
 ],
 "metadata": {
  "kernelspec": {
   "display_name": "Python 3 (ipykernel)",
   "language": "python",
   "name": "python3"
  },
  "language_info": {
   "codemirror_mode": {
    "name": "ipython",
    "version": 3
   },
   "file_extension": ".py",
   "mimetype": "text/x-python",
   "name": "python",
   "nbconvert_exporter": "python",
   "pygments_lexer": "ipython3",
   "version": "3.9.7"
  }
 },
 "nbformat": 4,
 "nbformat_minor": 5
}
